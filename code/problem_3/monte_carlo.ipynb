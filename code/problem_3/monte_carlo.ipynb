{
 "cells": [
  {
   "cell_type": "code",
   "execution_count": 12,
   "metadata": {},
   "outputs": [],
   "source": [
    "import numpy as np\n",
    "from scipy.special import gamma\n",
    "\n",
    "def monte_carlo_first(dimension, num_samples=10000000):\n",
    "    # generate random points uniformly in the cubid\n",
    "    points = np.random.uniform(-0.5, 0.5, size=(num_samples, dimension))\n",
    "    \n",
    "    # check if points lie inside the ball\n",
    "    distances_squared = np.sum(points**2, axis=1)\n",
    "    inside_ball = distances_squared <= 1\n",
    "    \n",
    "    # fraction of points inside B^d gives the volume of the intersection\n",
    "    intersection_volume = np.mean(inside_ball)\n",
    "    return intersection_volume"
   ]
  },
  {
   "cell_type": "code",
   "execution_count": 10,
   "metadata": {},
   "outputs": [],
   "source": [
    "def monte_carlo_second(dimension, num_samples=10000000):\n",
    "    # generate random points on the unit surface\n",
    "    x_normal = np.random.normal(size=(num_samples, dimension))\n",
    "    y = x_normal / np.linalg.norm(x_normal, axis=1)[:, np.newaxis]\n",
    "    \n",
    "    # generate radius\n",
    "    x_radius = np.random.uniform(size=num_samples)\n",
    "    r = x_radius**(1/dimension)\n",
    "    \n",
    "    # final point\n",
    "    points = r[:, np.newaxis] * y\n",
    "    \n",
    "    # check if points lie inside the the cube\n",
    "    inside_cube = np.all(np.abs(points) <= 0.5, axis=1)\n",
    "    \n",
    "    # fraction of points inside the cube gives the volume of the intersection\n",
    "    intersection_volume = np.mean(inside_cube) * np.pi**(dimension/2) / gamma(dimension/2 + 1)\n",
    "    return intersection_volume"
   ]
  },
  {
   "cell_type": "code",
   "execution_count": 13,
   "metadata": {},
   "outputs": [
    {
     "name": "stdout",
     "output_type": "stream",
     "text": [
      "Estimated Vol(B^5 ∩ C^5) = 0.999568\n",
      "Estimated Vol(B^10 ∩ C^10) = 0.762271\n",
      "Estimated Vol(B^15 ∩ C^15) = 0.197200\n",
      "Estimated Vol(B^20 ∩ C^20) = 0.018337\n"
     ]
    }
   ],
   "source": [
    "\n",
    "# Dimensions to test\n",
    "dimensions = [5, 10, 15, 20]\n",
    "\n",
    "# Run the Monte Carlo estimation for each dimension\n",
    "results = {}\n",
    "for dimension in dimensions:\n",
    "    volume = monte_carlo_first(dimension)\n",
    "    results[dimension] = volume\n",
    "    print(f\"Estimated Vol(B^{dimension} ∩ C^{dimension}) = {volume:.6f}\")"
   ]
  },
  {
   "cell_type": "code",
   "execution_count": 14,
   "metadata": {},
   "outputs": [
    {
     "name": "stdout",
     "output_type": "stream",
     "text": [
      "Estimated Vol(B^5 ∩ C^5) = 0.997805\n",
      "Estimated Vol(B^10 ∩ C^10) = 0.762488\n",
      "Estimated Vol(B^15 ∩ C^15) = 0.197301\n",
      "Estimated Vol(B^20 ∩ C^20) = 0.018248\n"
     ]
    }
   ],
   "source": [
    "# Dimensions to test\n",
    "dimensions = [5, 10, 15, 20]\n",
    "\n",
    "# Run the Monte Carlo estimation for each dimension\n",
    "results = {}\n",
    "for dimension in dimensions:\n",
    "    volume = monte_carlo_second(dimension)\n",
    "    results[dimension] = volume\n",
    "    print(f\"Estimated Vol(B^{dimension} ∩ C^{dimension}) = {volume:.6f}\")"
   ]
  }
 ],
 "metadata": {
  "kernelspec": {
   "display_name": "base",
   "language": "python",
   "name": "python3"
  },
  "language_info": {
   "codemirror_mode": {
    "name": "ipython",
    "version": 3
   },
   "file_extension": ".py",
   "mimetype": "text/x-python",
   "name": "python",
   "nbconvert_exporter": "python",
   "pygments_lexer": "ipython3",
   "version": "3.11.5"
  }
 },
 "nbformat": 4,
 "nbformat_minor": 2
}
